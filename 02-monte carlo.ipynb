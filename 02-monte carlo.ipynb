{
 "cells": [
  {
   "cell_type": "code",
   "execution_count": 1,
   "id": "d1649200",
   "metadata": {},
   "outputs": [],
   "source": [
    "#ex1"
   ]
  },
  {
   "cell_type": "code",
   "execution_count": 2,
   "id": "3e09b478",
   "metadata": {},
   "outputs": [],
   "source": [
    "import numpy as np\n",
    "from matplotlib import pyplot as plt\n",
    "import statistics"
   ]
  },
  {
   "cell_type": "code",
   "execution_count": 3,
   "id": "0892d31d",
   "metadata": {},
   "outputs": [],
   "source": [
    "#a: x_circle/N = pi*(d/2)**2/(d**2)\n",
    "N = 100000 #tot number of draws\n",
    "d = 1 #length of the square\n",
    "x = []\n",
    "y = []"
   ]
  },
  {
   "cell_type": "code",
   "execution_count": 4,
   "id": "65be1103",
   "metadata": {},
   "outputs": [],
   "source": [
    "def pi_evaluation(N,d,x_c=0):\n",
    "    for i in range(N):\n",
    "        x_s = np.random.uniform(-d,d)\n",
    "        y_s = np.random.uniform(-d,d)\n",
    "        #x.append(x_s)\n",
    "        #y.append(x_s)\n",
    "        if np.sqrt(x_s**2 + y_s**2) <= d:\n",
    "            x_c += 1\n",
    "        pi = 4*x_c/N\n",
    "    return pi "
   ]
  },
  {
   "cell_type": "code",
   "execution_count": 5,
   "id": "e5dffd6e",
   "metadata": {},
   "outputs": [
    {
     "data": {
      "text/plain": [
       "3.13688"
      ]
     },
     "execution_count": 5,
     "metadata": {},
     "output_type": "execute_result"
    }
   ],
   "source": [
    "pi = pi_evaluation(N,d,x_c=0)\n",
    "pi"
   ]
  },
  {
   "cell_type": "code",
   "execution_count": 6,
   "id": "a6c74012",
   "metadata": {},
   "outputs": [],
   "source": [
    "#b: \n",
    "T = 10 #repeating procedure\n",
    "pi_vect = []\n",
    "for i in range(T):\n",
    "    pi = pi_evaluation(N,d,x_c=0)\n",
    "    pi_vect.append(pi)"
   ]
  },
  {
   "cell_type": "code",
   "execution_count": 9,
   "id": "0d3064c2",
   "metadata": {},
   "outputs": [
    {
     "data": {
      "text/plain": [
       "8.00611004801079e-06"
      ]
     },
     "execution_count": 9,
     "metadata": {},
     "output_type": "execute_result"
    }
   ],
   "source": [
    "pi_exact = np.pi*np.ones(T)\n",
    "err = abs(pi_exact-pi_vect)\n",
    "var = statistics.variance(err)\n",
    "var"
   ]
  },
  {
   "cell_type": "code",
   "execution_count": 30,
   "id": "5489df14",
   "metadata": {},
   "outputs": [
    {
     "data": {
      "image/png": "[encoded data removed]",
      "text/plain": [
       "<Figure size 432x288 with 1 Axes>"
      ]
     },
     "metadata": {
      "needs_background": "light"
     },
     "output_type": "display_data"
    }
   ],
   "source": [
    "plt.xscale(\"log\")\n",
    "plt.yscale(\"log\")\n",
    "plt.plot(N,var)\n",
    "plt.title(\"variance\")\n",
    "plt.show()"
   ]
  },
  {
   "cell_type": "code",
   "execution_count": 32,
   "id": "974ee790",
   "metadata": {},
   "outputs": [],
   "source": [
    "#d: volume "
   ]
  },
  {
   "cell_type": "code",
   "execution_count": null,
   "id": "f3879aa1",
   "metadata": {},
   "outputs": [],
   "source": [
    "#ex2"
   ]
  },
  {
   "cell_type": "code",
   "execution_count": 15,
   "id": "a3f1edb9",
   "metadata": {},
   "outputs": [],
   "source": [
    "a = 0\n",
    "b = 10\n",
    "Ns = 100\n",
    "x = []\n",
    "for i in range(Ns):\n",
    "    x1 = np.random.uniform(a,b)\n",
    "    x.append(x1)"
   ]
  },
  {
   "cell_type": "code",
   "execution_count": 24,
   "id": "5fb6b8f7",
   "metadata": {},
   "outputs": [],
   "source": [
    "#a:\n",
    "xn = [-i for i in x]\n",
    "xm = [(i-1)**2 +1 for i in x]\n",
    "def integral_montecarlo(x,b,a):\n",
    "    \n",
    "    f = np.exp(xn)/(xm)\n",
    "    f_avg = sum(f)/len(f)\n",
    "    \n",
    "    I = f_avg*(b-a)\n",
    "    return I"
   ]
  },
  {
   "cell_type": "code",
   "execution_count": 26,
   "id": "1896b4d8",
   "metadata": {},
   "outputs": [
    {
     "data": {
      "text/plain": [
       "0.5930297994798158"
      ]
     },
     "execution_count": 26,
     "metadata": {},
     "output_type": "execute_result"
    }
   ],
   "source": [
    "I1 = integral_montecarlo(x,b,a)\n",
    "I1"
   ]
  },
  {
   "cell_type": "code",
   "execution_count": 35,
   "id": "73db34ff",
   "metadata": {},
   "outputs": [
    {
     "ename": "TypeError",
     "evalue": "ufunc 'invert' not supported for the input types, and the inputs could not be safely coerced to any supported types according to the casting rule ''safe''",
     "output_type": "error",
     "traceback": [
      "\u001b[0;31m---------------------------------------------------------------------------\u001b[0m",
      "\u001b[0;31mTypeError\u001b[0m                                 Traceback (most recent call last)",
      "\u001b[0;32m/var/folders/8b/z_3fbk496p10_y9lk8fm81zr0000gn/T/ipykernel_2599/921309050.py\u001b[0m in \u001b[0;36m<module>\u001b[0;34m\u001b[0m\n\u001b[1;32m      3\u001b[0m \u001b[0mxn1\u001b[0m \u001b[0;34m=\u001b[0m \u001b[0;34m[\u001b[0m\u001b[0mα\u001b[0m\u001b[0;34m*\u001b[0m\u001b[0mi\u001b[0m \u001b[0;32mfor\u001b[0m \u001b[0mi\u001b[0m \u001b[0;32min\u001b[0m \u001b[0mxn\u001b[0m\u001b[0;34m]\u001b[0m\u001b[0;34m\u001b[0m\u001b[0;34m\u001b[0m\u001b[0m\n\u001b[1;32m      4\u001b[0m \u001b[0mg\u001b[0m \u001b[0;34m=\u001b[0m \u001b[0mα\u001b[0m\u001b[0;34m*\u001b[0m\u001b[0mnp\u001b[0m\u001b[0;34m.\u001b[0m\u001b[0mexp\u001b[0m\u001b[0;34m(\u001b[0m\u001b[0mxn1\u001b[0m\u001b[0;34m)\u001b[0m\u001b[0;34m\u001b[0m\u001b[0;34m\u001b[0m\u001b[0m\n\u001b[0;32m----> 5\u001b[0;31m \u001b[0mg_inv\u001b[0m \u001b[0;34m=\u001b[0m \u001b[0mnp\u001b[0m\u001b[0;34m.\u001b[0m\u001b[0minvert\u001b[0m\u001b[0;34m(\u001b[0m\u001b[0mg\u001b[0m\u001b[0;34m)\u001b[0m\u001b[0;34m\u001b[0m\u001b[0;34m\u001b[0m\u001b[0m\n\u001b[0m\u001b[1;32m      6\u001b[0m \u001b[0mx_g\u001b[0m \u001b[0;34m=\u001b[0m \u001b[0mg_inv\u001b[0m\u001b[0;34m(\u001b[0m\u001b[0mx\u001b[0m\u001b[0;34m)\u001b[0m \u001b[0;31m#variables distributed with g\u001b[0m\u001b[0;34m\u001b[0m\u001b[0;34m\u001b[0m\u001b[0m\n",
      "\u001b[0;31mTypeError\u001b[0m: ufunc 'invert' not supported for the input types, and the inputs could not be safely coerced to any supported types according to the casting rule ''safe''"
     ]
    }
   ],
   "source": [
    "#b:\n",
    "α = 1.46\n",
    "xn1 = [α*i for i in xn]\n",
    "g = α*np.exp(xn1)\n",
    "g_inv = np.invert(g)\n",
    "x_g = g_inv(x) #variables distributed with g"
   ]
  },
  {
   "cell_type": "code",
   "execution_count": 36,
   "id": "268b69f6",
   "metadata": {},
   "outputs": [
    {
     "ename": "NameError",
     "evalue": "name 'x_g' is not defined",
     "output_type": "error",
     "traceback": [
      "\u001b[0;31m---------------------------------------------------------------------------\u001b[0m",
      "\u001b[0;31mNameError\u001b[0m                                 Traceback (most recent call last)",
      "\u001b[0;32m/var/folders/8b/z_3fbk496p10_y9lk8fm81zr0000gn/T/ipykernel_2599/3440932298.py\u001b[0m in \u001b[0;36m<module>\u001b[0;34m\u001b[0m\n\u001b[0;32m----> 1\u001b[0;31m \u001b[0mI2\u001b[0m \u001b[0;34m=\u001b[0m \u001b[0mintegral_montecarlo\u001b[0m\u001b[0;34m(\u001b[0m\u001b[0mx_g\u001b[0m\u001b[0;34m,\u001b[0m\u001b[0mb\u001b[0m\u001b[0;34m,\u001b[0m\u001b[0ma\u001b[0m\u001b[0;34m)\u001b[0m\u001b[0;34m\u001b[0m\u001b[0;34m\u001b[0m\u001b[0m\n\u001b[0m\u001b[1;32m      2\u001b[0m \u001b[0mI2\u001b[0m\u001b[0;34m\u001b[0m\u001b[0;34m\u001b[0m\u001b[0m\n",
      "\u001b[0;31mNameError\u001b[0m: name 'x_g' is not defined"
     ]
    }
   ],
   "source": [
    "I2 = integral_montecarlo(x_g,b,a)\n",
    "I2"
   ]
  },
  {
   "cell_type": "code",
   "execution_count": 37,
   "id": "c8906a78",
   "metadata": {},
   "outputs": [],
   "source": [
    "#ex3"
   ]
  },
  {
   "cell_type": "code",
   "execution_count": 39,
   "id": "be7dfa5d",
   "metadata": {},
   "outputs": [],
   "source": [
    "import metropolis"
   ]
  },
  {
   "cell_type": "code",
   "execution_count": 42,
   "id": "304e6033",
   "metadata": {},
   "outputs": [],
   "source": [
    "#d:\n",
    "L = 10\n",
    "t = 5000 #simulation time\n",
    "def magnetization(system,L):\n",
    "    mag = 1/L**2*sum(system)\n",
    "    return mag"
   ]
  },
  {
   "cell_type": "code",
   "execution_count": 43,
   "id": "e3976e7f",
   "metadata": {},
   "outputs": [
    {
     "ename": "NameError",
     "evalue": "name 'system' is not defined",
     "output_type": "error",
     "traceback": [
      "\u001b[0;31m---------------------------------------------------------------------------\u001b[0m",
      "\u001b[0;31mNameError\u001b[0m                                 Traceback (most recent call last)",
      "\u001b[0;32m/var/folders/8b/z_3fbk496p10_y9lk8fm81zr0000gn/T/ipykernel_2599/2083074791.py\u001b[0m in \u001b[0;36m<module>\u001b[0;34m\u001b[0m\n\u001b[1;32m      1\u001b[0m \u001b[0mM\u001b[0m \u001b[0;34m=\u001b[0m \u001b[0;34m[\u001b[0m\u001b[0;34m]\u001b[0m\u001b[0;34m\u001b[0m\u001b[0;34m\u001b[0m\u001b[0m\n\u001b[1;32m      2\u001b[0m \u001b[0;32mfor\u001b[0m \u001b[0mi\u001b[0m \u001b[0;32min\u001b[0m \u001b[0mrange\u001b[0m\u001b[0;34m(\u001b[0m\u001b[0mt\u001b[0m\u001b[0;34m)\u001b[0m\u001b[0;34m:\u001b[0m\u001b[0;34m\u001b[0m\u001b[0;34m\u001b[0m\u001b[0m\n\u001b[0;32m----> 3\u001b[0;31m     \u001b[0mm\u001b[0m \u001b[0;34m=\u001b[0m \u001b[0mmagnetization\u001b[0m\u001b[0;34m(\u001b[0m\u001b[0msystem\u001b[0m\u001b[0;34m,\u001b[0m\u001b[0mL\u001b[0m\u001b[0;34m)\u001b[0m\u001b[0;34m\u001b[0m\u001b[0;34m\u001b[0m\u001b[0m\n\u001b[0m\u001b[1;32m      4\u001b[0m     \u001b[0mM\u001b[0m\u001b[0;34m.\u001b[0m\u001b[0mappend\u001b[0m\u001b[0;34m(\u001b[0m\u001b[0mm\u001b[0m\u001b[0;34m)\u001b[0m\u001b[0;34m\u001b[0m\u001b[0;34m\u001b[0m\u001b[0m\n",
      "\u001b[0;31mNameError\u001b[0m: name 'system' is not defined"
     ]
    }
   ],
   "source": [
    "M = []\n",
    "system0 = prepare_system(L) #initial system\n",
    "for i in range(t):\n",
    "    system = #updated system via metropolis\n",
    "    \n",
    "    m = magnetization(system,L)\n",
    "    M.append(m)"
   ]
  },
  {
   "cell_type": "code",
   "execution_count": null,
   "id": "b53d0dc7",
   "metadata": {},
   "outputs": [],
   "source": [
    "plt.plot(t, M)\n",
    "plt.xlabel('simulation time')\n",
    "plt.ylabel('magnetization')\n",
    "plt.show()"
   ]
  }
 ],
 "metadata": {
  "kernelspec": {
   "display_name": "Python 3 (ipykernel)",
   "language": "python",
   "name": "python3"
  },
  "language_info": {
   "codemirror_mode": {
    "name": "ipython",
    "version": 3
   },
   "file_extension": ".py",
   "mimetype": "text/x-python",
   "name": "python",
   "nbconvert_exporter": "python",
   "pygments_lexer": "ipython3",
   "version": "3.9.7"
  }
 },
 "nbformat": 4,
 "nbformat_minor": 5
}
